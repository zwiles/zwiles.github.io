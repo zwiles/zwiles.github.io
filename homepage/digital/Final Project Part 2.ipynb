{
 "cells": [
  {
   "cell_type": "markdown",
   "metadata": {
    "deletable": true,
    "editable": true
   },
   "source": [
    "Uses this to Scroll through Facebook and Instagram and returns results."
   ]
  },
  {
   "cell_type": "code",
   "execution_count": 1,
   "metadata": {
    "collapsed": true,
    "deletable": true,
    "editable": true
   },
   "outputs": [],
   "source": [
    "from selenium import webdriver \n",
    "from selenium.webdriver.common.keys import Keys\n",
    "# To effectively navigate through Facebook, it is important that you \"allow notifications\" for Facbook on your computer or else your Chrome browser will continually ask you to give notifications permission, \n",
    "#and you will have to do this manually, interrupting the running of the chromebrowser\n",
    "chrome_options = webdriver.ChromeOptions()\n",
    "prefs = {\"profile.default_content_setting_values.notifications\" : 2}\n",
    "chrome_options.add_experimental_option(\"prefs\", prefs)\n",
    "browser = webdriver.Chrome(executable_path='/Users/zoewiles/Downloads/chromedriver',\n",
    "                         chrome_options=chrome_options)"
   ]
  },
  {
   "cell_type": "code",
   "execution_count": 2,
   "metadata": {
    "collapsed": false,
    "deletable": true,
    "editable": true
   },
   "outputs": [],
   "source": [
    "# access the element of the input text box\n",
    "browser.get('https://www.facebook.com')\n",
    "inputBox = browser.find_element_by_name(\"email\")\n",
    "# send my email\n",
    "inputBox.send_keys(\"zrwiles@gmail.com\")\n",
    "\n",
    "# access the element of the input text box\n",
    "inputBox = browser.find_element_by_name(\"pass\")\n",
    "# send my email\n",
    "inputBox.send_keys(\"Ghana#3215\")\n",
    "inputBox = browser.find_element_by_id('loginbutton').click()\n",
    "\n",
    "rawHtml = browser.page_source\n"
   ]
  },
  {
   "cell_type": "code",
   "execution_count": 3,
   "metadata": {
    "collapsed": false,
    "deletable": true,
    "editable": true
   },
   "outputs": [
    {
     "name": "stdout",
     "output_type": "stream",
     "text": [
      "set([u'https://www.facebook.com/madebygoogle/', u'https://www.facebook.com/danielle.espling', u'https://www.facebook.com/clickhole/', u'https://www.facebook.com/TVshowentertainment/', u'https://www.facebook.com/WhisperApp/', u'https://www.facebook.com/ellemagazine/', u'https://www.facebook.com/sephora/', u'https://www.facebook.com/Female-144104129680859/', u'https://www.facebook.com/emily.cheng.7946', u'https://www.facebook.com/thrillistfoodanddrink/', u'https://www.facebook.com/UltaBeauty/'])\n",
      "{u'https://www.facebook.com/madebygoogle/': 6, u'https://www.facebook.com/danielle.espling': 9, u'https://www.facebook.com/clickhole/': 2, u'https://www.facebook.com/TVshowentertainment/': 2, u'https://www.facebook.com/WhisperApp/': 8, u'https://www.facebook.com/ellemagazine/': 4, u'https://www.facebook.com/sephora/': 9, u'https://www.facebook.com/Female-144104129680859/': 6, u'https://www.facebook.com/emily.cheng.7946': 4, u'https://www.facebook.com/thrillistfoodanddrink/': 7, u'https://www.facebook.com/UltaBeauty/': 1}\n"
     ]
    }
   ],
   "source": [
    "ads = set()\n",
    "adDict = {}\n",
    "i = 0\n",
    "lastHeight = browser.execute_script(\"return document.body.scrollHeight\")\n",
    "while True:\n",
    "    browser.execute_script(\"window.scrollTo(0, document.body.scrollHeight);\")\n",
    "    for ad in browser.find_elements_by_class_name(\"userContentWrapper\"):\n",
    "        a = ad.find_element_by_tag_name(\"a\")\n",
    "        \n",
    "        link = a.get_attribute(\"href\").split('?')[0]\n",
    "        #if link != \"https://www.facebook.com/profile.php\" and link != 'https://www.facebook.com/Alsamoie/'\n",
    "        if link.find(\"sponsor\") and link != \"https://www.facebook.com/#\" and link != \"https://www.facebook.com/profile.php\":\n",
    "            if link not in ads:\n",
    "                ads.add(link)\n",
    "                adDict[link] = 1\n",
    "            else:\n",
    "                adDict[link] += 1\n",
    "    newHeight = browser.execute_script(\"return document.body.scrollHeight\")\n",
    "    #if newHeight == lastHeight or len(commenters) > 5:\n",
    "    if len(ads) > 10:\n",
    "        break\n",
    "    lastHeight = newHeight\n",
    "print ads\n",
    "print adDict\n"
   ]
  },
  {
   "cell_type": "code",
   "execution_count": 4,
   "metadata": {
    "collapsed": false,
    "deletable": true,
    "editable": true
   },
   "outputs": [
    {
     "name": "stdout",
     "output_type": "stream",
     "text": [
      "https://www.facebook.com/UltaBeauty/: 1\n",
      "https://www.facebook.com/TVshowentertainment/: 2\n",
      "https://www.facebook.com/clickhole/: 2\n",
      "https://www.facebook.com/ellemagazine/: 4\n",
      "https://www.facebook.com/emily.cheng.7946: 4\n",
      "https://www.facebook.com/Female-144104129680859/: 6\n",
      "https://www.facebook.com/madebygoogle/: 6\n",
      "https://www.facebook.com/thrillistfoodanddrink/: 7\n",
      "https://www.facebook.com/WhisperApp/: 8\n",
      "https://www.facebook.com/danielle.espling: 9\n",
      "https://www.facebook.com/sephora/: 9\n"
     ]
    }
   ],
   "source": [
    "for key, value in sorted(adDict.iteritems(), key=lambda (k,v): (v,k)):\n",
    "    print \"%s: %s\" % (key, value)"
   ]
  },
  {
   "cell_type": "markdown",
   "metadata": {
    "deletable": true,
    "editable": true
   },
   "source": [
    "Data Visualizations\n"
   ]
  },
  {
   "cell_type": "code",
   "execution_count": 5,
   "metadata": {
    "collapsed": false,
    "deletable": true,
    "editable": true
   },
   "outputs": [
    {
     "data": {
      "image/png": "[encoded data removed]",
      "text/plain": [
       "<matplotlib.figure.Figure at 0x10f162c10>"
      ]
     },
     "metadata": {},
     "output_type": "display_data"
    }
   ],
   "source": [
    "import numpy as np\n",
    "import matplotlib.pyplot as plt\n",
    "d = adDict\n",
    "plt.bar(range(len(d)), d.values(), align='center')\n",
    "plt.xticks(range(len(d)), rotation=25)\n",
    "plt.show()"
   ]
  },
  {
   "cell_type": "code",
   "execution_count": null,
   "metadata": {
    "collapsed": true,
    "deletable": true,
    "editable": true
   },
   "outputs": [],
   "source": []
  },
  {
   "cell_type": "code",
   "execution_count": null,
   "metadata": {
    "collapsed": true,
    "deletable": true,
    "editable": true
   },
   "outputs": [],
   "source": []
  }
 ],
 "metadata": {
  "kernelspec": {
   "display_name": "Python 2",
   "language": "python",
   "name": "python2"
  },
  "language_info": {
   "codemirror_mode": {
    "name": "ipython",
    "version": 2
   },
   "file_extension": ".py",
   "mimetype": "text/x-python",
   "name": "python",
   "nbconvert_exporter": "python",
   "pygments_lexer": "ipython2",
   "version": "2.7.11"
  }
 },
 "nbformat": 4,
 "nbformat_minor": 2
}
