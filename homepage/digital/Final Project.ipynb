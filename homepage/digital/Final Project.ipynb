{
 "cells": [
  {
   "cell_type": "code",
   "execution_count": 38,
   "metadata": {
    "collapsed": true,
    "deletable": true,
    "editable": true
   },
   "outputs": [],
   "source": [
    "from selenium import webdriver \n",
    "from selenium.webdriver.common.keys import Keys\n",
    "# To effectively navigate through Facebook, it is important that you \"allow notifications\" for Facbook on your computer or else your Chrome browser will continually ask you to give notifications permission, \n",
    "#and you will have to do this manually, interrupting the running of the chromebrowser\n",
    "chrome_options = webdriver.ChromeOptions()\n",
    "prefs = {\"profile.default_content_setting_values.notifications\" : 2}\n",
    "chrome_options.add_experimental_option(\"prefs\", prefs)\n",
    "browser = webdriver.Chrome(executable_path='/Users/zoewiles/Downloads/chromedriver',\n",
    "                         chrome_options=chrome_options)"
   ]
  },
  {
   "cell_type": "code",
   "execution_count": 26,
   "metadata": {
    "collapsed": true
   },
   "outputs": [],
   "source": []
  },
  {
   "cell_type": "code",
   "execution_count": 39,
   "metadata": {
    "collapsed": false,
    "deletable": true,
    "editable": true
   },
   "outputs": [],
   "source": [
    "#Go to delta first\n",
    "browser.get('https://www.delta.com/')\n",
    "buttons = browser.find_element_by_id('oneWayBtn').click()\n",
    "\n",
    "\n",
    "\n",
    "fromButton = browser.find_element_by_id('inputwarp_source_city').find_element_by_css_selector('.search-txt-field.ui-autocomplete-input')\n",
    "fromButton.clear()\n",
    "fromButton.send_keys(\"BOS\")\n",
    "toButton = browser.find_element_by_id(\"inputwarp_destination_city\").find_element_by_css_selector('.search-txt-field.ui-autocomplete-input')\n",
    "toButton.clear()\n",
    "toButton.send_keys(\"MCO\")\n",
    "\n",
    "dates = browser.find_element_by_css_selector(\".dateFieldWrap.airShoppingDateFieldWrap\")\n",
    "\n",
    "dDate = dates.find_element_by_id('departureDate')\n",
    "dDate.send_keys(\"01/31/2018\")\n",
    "\n",
    " #rDate = dates.find_element_by_css_selector('.search-txt-field-Cal.return.calInput.hasDatepicker')\n",
    " #dDate.send_keys(\"02/06/2018\")\n",
    "#Have to press Find Flights Button because could not get below code to work \n",
    "#searchbuttons = browser.find_element_by_id('findFlightsSubmit').click()\n"
   ]
  },
  {
   "cell_type": "code",
   "execution_count": 53,
   "metadata": {
    "collapsed": false,
    "deletable": true,
    "editable": true
   },
   "outputs": [],
   "source": [
    "#Go to Madewell Next\n",
    "#used this link to avoid pop ups on the main page\n",
    "#Just scrolled through this one\n",
    "browser.get('https://www.madewell.com/shopmadewell.jsp')\n",
    "\n",
    "shirtsB = browser.find_element_by_id(\"TEESANDMORE\").click()\n",
    "\n",
    "browser.execute_script(\"window.scrollTo(0, document.body.scrollHeight);\")\n",
    "\n",
    "active = shirtsB = browser.find_element_by_id(\"lounge\").click()\n",
    "browser.execute_script(\"window.scrollTo(0, document.body.scrollHeight);\")\n",
    "\n",
    "jeans = shirtsB = browser.find_element_by_id(\"DENIMBAR\").click()\n",
    "browser.execute_script(\"window.scrollTo(0, document.body.scrollHeight);\")\n",
    "\n",
    "\n",
    "\n",
    "\n",
    "#cart1 = browser.find_element_by_alt(\"Whisper Cotton Turtleneck in Kadler Stripe\")\n",
    "\n"
   ]
  },
  {
   "cell_type": "code",
   "execution_count": null,
   "metadata": {
    "collapsed": true
   },
   "outputs": [],
   "source": []
  }
 ],
 "metadata": {
  "kernelspec": {
   "display_name": "Python 2",
   "language": "python",
   "name": "python2"
  },
  "language_info": {
   "codemirror_mode": {
    "name": "ipython",
    "version": 2
   },
   "file_extension": ".py",
   "mimetype": "text/x-python",
   "name": "python",
   "nbconvert_exporter": "python",
   "pygments_lexer": "ipython2",
   "version": "2.7.11"
  }
 },
 "nbformat": 4,
 "nbformat_minor": 2
}
